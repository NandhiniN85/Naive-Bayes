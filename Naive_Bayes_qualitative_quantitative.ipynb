{
 "cells": [
  {
   "cell_type": "markdown",
   "metadata": {},
   "source": [
    "#### Import the necessary libraries"
   ]
  },
  {
   "cell_type": "code",
   "execution_count": 84,
   "metadata": {},
   "outputs": [],
   "source": [
    "import pandas as pd\n",
    "import numpy as np\n",
    "from sklearn.naive_bayes import GaussianNB\n",
    "import warnings\n",
    "from sklearn.preprocessing import LabelEncoder"
   ]
  },
  {
   "cell_type": "code",
   "execution_count": 85,
   "metadata": {},
   "outputs": [],
   "source": [
    "warnings.filterwarnings('ignore')"
   ]
  },
  {
   "cell_type": "markdown",
   "metadata": {},
   "source": [
    "#### Readin the file "
   ]
  },
  {
   "cell_type": "code",
   "execution_count": 86,
   "metadata": {},
   "outputs": [],
   "source": [
    "train_data = pd.read_csv('weather_dataset_Continuous.csv')"
   ]
  },
  {
   "cell_type": "code",
   "execution_count": 87,
   "metadata": {},
   "outputs": [
    {
     "data": {
      "text/html": [
       "<div>\n",
       "<style scoped>\n",
       "    .dataframe tbody tr th:only-of-type {\n",
       "        vertical-align: middle;\n",
       "    }\n",
       "\n",
       "    .dataframe tbody tr th {\n",
       "        vertical-align: top;\n",
       "    }\n",
       "\n",
       "    .dataframe thead th {\n",
       "        text-align: right;\n",
       "    }\n",
       "</style>\n",
       "<table border=\"1\" class=\"dataframe\">\n",
       "  <thead>\n",
       "    <tr style=\"text-align: right;\">\n",
       "      <th></th>\n",
       "      <th>Outlook</th>\n",
       "      <th>Temperature</th>\n",
       "      <th>Humidity</th>\n",
       "      <th>Windy</th>\n",
       "      <th>Class</th>\n",
       "    </tr>\n",
       "  </thead>\n",
       "  <tbody>\n",
       "    <tr>\n",
       "      <th>0</th>\n",
       "      <td>Rainy</td>\n",
       "      <td>Hot</td>\n",
       "      <td>5</td>\n",
       "      <td>92</td>\n",
       "      <td>No</td>\n",
       "    </tr>\n",
       "    <tr>\n",
       "      <th>1</th>\n",
       "      <td>Rainy</td>\n",
       "      <td>Hot</td>\n",
       "      <td>6</td>\n",
       "      <td>56</td>\n",
       "      <td>Yes</td>\n",
       "    </tr>\n",
       "    <tr>\n",
       "      <th>2</th>\n",
       "      <td>Overcast</td>\n",
       "      <td>Hot</td>\n",
       "      <td>10</td>\n",
       "      <td>67</td>\n",
       "      <td>Yes</td>\n",
       "    </tr>\n",
       "    <tr>\n",
       "      <th>3</th>\n",
       "      <td>Sunny</td>\n",
       "      <td>Mild</td>\n",
       "      <td>50</td>\n",
       "      <td>88</td>\n",
       "      <td>No</td>\n",
       "    </tr>\n",
       "    <tr>\n",
       "      <th>4</th>\n",
       "      <td>Sunny</td>\n",
       "      <td>Cool</td>\n",
       "      <td>21</td>\n",
       "      <td>34</td>\n",
       "      <td>Yes</td>\n",
       "    </tr>\n",
       "    <tr>\n",
       "      <th>5</th>\n",
       "      <td>Sunny</td>\n",
       "      <td>Cool</td>\n",
       "      <td>30</td>\n",
       "      <td>21</td>\n",
       "      <td>No</td>\n",
       "    </tr>\n",
       "    <tr>\n",
       "      <th>6</th>\n",
       "      <td>Overcast</td>\n",
       "      <td>Cool</td>\n",
       "      <td>42</td>\n",
       "      <td>75</td>\n",
       "      <td>Yes</td>\n",
       "    </tr>\n",
       "    <tr>\n",
       "      <th>7</th>\n",
       "      <td>Rainy</td>\n",
       "      <td>Mild</td>\n",
       "      <td>67</td>\n",
       "      <td>45</td>\n",
       "      <td>No</td>\n",
       "    </tr>\n",
       "    <tr>\n",
       "      <th>8</th>\n",
       "      <td>Rainy</td>\n",
       "      <td>Cool</td>\n",
       "      <td>35</td>\n",
       "      <td>65</td>\n",
       "      <td>Yes</td>\n",
       "    </tr>\n",
       "    <tr>\n",
       "      <th>9</th>\n",
       "      <td>Sunny</td>\n",
       "      <td>Mild</td>\n",
       "      <td>30</td>\n",
       "      <td>71</td>\n",
       "      <td>Yes</td>\n",
       "    </tr>\n",
       "    <tr>\n",
       "      <th>10</th>\n",
       "      <td>Rainy</td>\n",
       "      <td>Mild</td>\n",
       "      <td>25</td>\n",
       "      <td>23</td>\n",
       "      <td>Yes</td>\n",
       "    </tr>\n",
       "    <tr>\n",
       "      <th>11</th>\n",
       "      <td>Overcast</td>\n",
       "      <td>Mild</td>\n",
       "      <td>79</td>\n",
       "      <td>54</td>\n",
       "      <td>Yes</td>\n",
       "    </tr>\n",
       "    <tr>\n",
       "      <th>12</th>\n",
       "      <td>Overcast</td>\n",
       "      <td>Hot</td>\n",
       "      <td>45</td>\n",
       "      <td>33</td>\n",
       "      <td>Yes</td>\n",
       "    </tr>\n",
       "    <tr>\n",
       "      <th>13</th>\n",
       "      <td>Sunny</td>\n",
       "      <td>Mild</td>\n",
       "      <td>81</td>\n",
       "      <td>67</td>\n",
       "      <td>No</td>\n",
       "    </tr>\n",
       "  </tbody>\n",
       "</table>\n",
       "</div>"
      ],
      "text/plain": [
       "     Outlook Temperature  Humidity  Windy Class\n",
       "0      Rainy         Hot         5     92    No\n",
       "1      Rainy         Hot         6     56   Yes\n",
       "2   Overcast         Hot        10     67   Yes\n",
       "3      Sunny        Mild        50     88    No\n",
       "4      Sunny        Cool        21     34   Yes\n",
       "5      Sunny        Cool        30     21    No\n",
       "6   Overcast        Cool        42     75   Yes\n",
       "7      Rainy        Mild        67     45    No\n",
       "8      Rainy        Cool        35     65   Yes\n",
       "9      Sunny        Mild        30     71   Yes\n",
       "10     Rainy        Mild        25     23   Yes\n",
       "11  Overcast        Mild        79     54   Yes\n",
       "12  Overcast         Hot        45     33   Yes\n",
       "13     Sunny        Mild        81     67    No"
      ]
     },
     "execution_count": 87,
     "metadata": {},
     "output_type": "execute_result"
    }
   ],
   "source": [
    "train_data"
   ]
  },
  {
   "cell_type": "code",
   "execution_count": 88,
   "metadata": {},
   "outputs": [
    {
     "data": {
      "text/plain": [
       "(14, 5)"
      ]
     },
     "execution_count": 88,
     "metadata": {},
     "output_type": "execute_result"
    }
   ],
   "source": [
    "train_data.shape"
   ]
  },
  {
   "cell_type": "code",
   "execution_count": 89,
   "metadata": {},
   "outputs": [
    {
     "name": "stdout",
     "output_type": "stream",
     "text": [
      "<class 'pandas.core.frame.DataFrame'>\n",
      "RangeIndex: 14 entries, 0 to 13\n",
      "Data columns (total 5 columns):\n",
      " #   Column       Non-Null Count  Dtype \n",
      "---  ------       --------------  ----- \n",
      " 0   Outlook      14 non-null     object\n",
      " 1   Temperature  14 non-null     object\n",
      " 2   Humidity     14 non-null     int64 \n",
      " 3   Windy        14 non-null     int64 \n",
      " 4   Class        14 non-null     object\n",
      "dtypes: int64(2), object(3)\n",
      "memory usage: 688.0+ bytes\n"
     ]
    }
   ],
   "source": [
    "train_data.info()"
   ]
  },
  {
   "cell_type": "markdown",
   "metadata": {},
   "source": [
    "#### 'Class' is the target label."
   ]
  },
  {
   "cell_type": "code",
   "execution_count": 90,
   "metadata": {},
   "outputs": [],
   "source": [
    "#calculating all the probabilities using training data\n",
    "\n",
    "total_count = train_data.shape[0]\n",
    "\n",
    "Yes_data = train_data[train_data['Class'] == 'Yes']\n",
    "No_data = train_data[train_data['Class'] == 'No']\n",
    "\n",
    "Yes_count = Yes_data.shape[0]\n",
    "No_count = No_data.shape[0]"
   ]
  },
  {
   "cell_type": "code",
   "execution_count": 91,
   "metadata": {},
   "outputs": [
    {
     "data": {
      "text/html": [
       "<div>\n",
       "<style scoped>\n",
       "    .dataframe tbody tr th:only-of-type {\n",
       "        vertical-align: middle;\n",
       "    }\n",
       "\n",
       "    .dataframe tbody tr th {\n",
       "        vertical-align: top;\n",
       "    }\n",
       "\n",
       "    .dataframe thead th {\n",
       "        text-align: right;\n",
       "    }\n",
       "</style>\n",
       "<table border=\"1\" class=\"dataframe\">\n",
       "  <thead>\n",
       "    <tr style=\"text-align: right;\">\n",
       "      <th></th>\n",
       "      <th>Outlook</th>\n",
       "      <th>Temperature</th>\n",
       "      <th>Humidity</th>\n",
       "      <th>Windy</th>\n",
       "      <th>Class</th>\n",
       "    </tr>\n",
       "  </thead>\n",
       "  <tbody>\n",
       "    <tr>\n",
       "      <th>0</th>\n",
       "      <td>Rainy</td>\n",
       "      <td>Hot</td>\n",
       "      <td>5</td>\n",
       "      <td>92</td>\n",
       "      <td>No</td>\n",
       "    </tr>\n",
       "    <tr>\n",
       "      <th>1</th>\n",
       "      <td>Rainy</td>\n",
       "      <td>Hot</td>\n",
       "      <td>6</td>\n",
       "      <td>56</td>\n",
       "      <td>Yes</td>\n",
       "    </tr>\n",
       "    <tr>\n",
       "      <th>2</th>\n",
       "      <td>Overcast</td>\n",
       "      <td>Hot</td>\n",
       "      <td>10</td>\n",
       "      <td>67</td>\n",
       "      <td>Yes</td>\n",
       "    </tr>\n",
       "    <tr>\n",
       "      <th>3</th>\n",
       "      <td>Sunny</td>\n",
       "      <td>Mild</td>\n",
       "      <td>50</td>\n",
       "      <td>88</td>\n",
       "      <td>No</td>\n",
       "    </tr>\n",
       "    <tr>\n",
       "      <th>4</th>\n",
       "      <td>Sunny</td>\n",
       "      <td>Cool</td>\n",
       "      <td>21</td>\n",
       "      <td>34</td>\n",
       "      <td>Yes</td>\n",
       "    </tr>\n",
       "    <tr>\n",
       "      <th>5</th>\n",
       "      <td>Sunny</td>\n",
       "      <td>Cool</td>\n",
       "      <td>30</td>\n",
       "      <td>21</td>\n",
       "      <td>No</td>\n",
       "    </tr>\n",
       "    <tr>\n",
       "      <th>6</th>\n",
       "      <td>Overcast</td>\n",
       "      <td>Cool</td>\n",
       "      <td>42</td>\n",
       "      <td>75</td>\n",
       "      <td>Yes</td>\n",
       "    </tr>\n",
       "    <tr>\n",
       "      <th>7</th>\n",
       "      <td>Rainy</td>\n",
       "      <td>Mild</td>\n",
       "      <td>67</td>\n",
       "      <td>45</td>\n",
       "      <td>No</td>\n",
       "    </tr>\n",
       "    <tr>\n",
       "      <th>8</th>\n",
       "      <td>Rainy</td>\n",
       "      <td>Cool</td>\n",
       "      <td>35</td>\n",
       "      <td>65</td>\n",
       "      <td>Yes</td>\n",
       "    </tr>\n",
       "    <tr>\n",
       "      <th>9</th>\n",
       "      <td>Sunny</td>\n",
       "      <td>Mild</td>\n",
       "      <td>30</td>\n",
       "      <td>71</td>\n",
       "      <td>Yes</td>\n",
       "    </tr>\n",
       "    <tr>\n",
       "      <th>10</th>\n",
       "      <td>Rainy</td>\n",
       "      <td>Mild</td>\n",
       "      <td>25</td>\n",
       "      <td>23</td>\n",
       "      <td>Yes</td>\n",
       "    </tr>\n",
       "    <tr>\n",
       "      <th>11</th>\n",
       "      <td>Overcast</td>\n",
       "      <td>Mild</td>\n",
       "      <td>79</td>\n",
       "      <td>54</td>\n",
       "      <td>Yes</td>\n",
       "    </tr>\n",
       "    <tr>\n",
       "      <th>12</th>\n",
       "      <td>Overcast</td>\n",
       "      <td>Hot</td>\n",
       "      <td>45</td>\n",
       "      <td>33</td>\n",
       "      <td>Yes</td>\n",
       "    </tr>\n",
       "    <tr>\n",
       "      <th>13</th>\n",
       "      <td>Sunny</td>\n",
       "      <td>Mild</td>\n",
       "      <td>81</td>\n",
       "      <td>67</td>\n",
       "      <td>No</td>\n",
       "    </tr>\n",
       "  </tbody>\n",
       "</table>\n",
       "</div>"
      ],
      "text/plain": [
       "     Outlook Temperature  Humidity  Windy Class\n",
       "0      Rainy         Hot         5     92    No\n",
       "1      Rainy         Hot         6     56   Yes\n",
       "2   Overcast         Hot        10     67   Yes\n",
       "3      Sunny        Mild        50     88    No\n",
       "4      Sunny        Cool        21     34   Yes\n",
       "5      Sunny        Cool        30     21    No\n",
       "6   Overcast        Cool        42     75   Yes\n",
       "7      Rainy        Mild        67     45    No\n",
       "8      Rainy        Cool        35     65   Yes\n",
       "9      Sunny        Mild        30     71   Yes\n",
       "10     Rainy        Mild        25     23   Yes\n",
       "11  Overcast        Mild        79     54   Yes\n",
       "12  Overcast         Hot        45     33   Yes\n",
       "13     Sunny        Mild        81     67    No"
      ]
     },
     "execution_count": 91,
     "metadata": {},
     "output_type": "execute_result"
    }
   ],
   "source": [
    "train_data"
   ]
  },
  {
   "cell_type": "markdown",
   "metadata": {},
   "source": [
    "#### calculate individual values for each feature and the corresponding categorical value"
   ]
  },
  {
   "cell_type": "markdown",
   "metadata": {},
   "source": [
    "#### 1. Data distribution for Yes"
   ]
  },
  {
   "cell_type": "code",
   "execution_count": 92,
   "metadata": {},
   "outputs": [],
   "source": [
    "data_distribution = pd.DataFrame([], columns=['Total', 'Outlook_rainy', 'Outlook_Overcast', 'Outlook_Sunny',\n",
    "                                              'Temperature_Hot', 'Temperature_Mild', 'Temperature_Cool',\n",
    "                                             'Humidity_mean', 'Humidity_std','Windy_mean', 'Windy_std' ])"
   ]
  },
  {
   "cell_type": "code",
   "execution_count": 93,
   "metadata": {},
   "outputs": [],
   "source": [
    "yes_outlook_rainy = Yes_data[Yes_data['Outlook'] == 'Rainy'].shape[0]\n",
    "yes_outlook_Overcast = Yes_data[Yes_data['Outlook'] == 'Overcast'].shape[0]\n",
    "yes_outlook_Sunny = Yes_data[Yes_data['Outlook'] == 'Sunny'].shape[0]\n",
    "\n",
    "yes_Temperature_Hot = Yes_data[Yes_data['Temperature'] == 'Hot'].shape[0]\n",
    "yes_Temperature_Mild = Yes_data[Yes_data['Temperature'] == 'Mild'].shape[0]\n",
    "yes_Temperature_Cool = Yes_data[Yes_data['Temperature'] == 'Cool'].shape[0]\n",
    "\n",
    "yes_Humidity_mean = np.mean(Yes_data['Humidity'])\n",
    "yes_Humidity_std = np.std(Yes_data['Humidity'])\n",
    "\n",
    "yes_Windy_mean = np.mean(Yes_data['Windy'])\n",
    "yes_Windy_std = np.std(Yes_data['Windy'])"
   ]
  },
  {
   "cell_type": "code",
   "execution_count": 94,
   "metadata": {},
   "outputs": [],
   "source": [
    "data_distribution.loc['Yes', 'Total'] = Yes_count\n",
    "data_distribution.loc['Yes', 'Outlook_rainy'] = yes_outlook_rainy\n",
    "data_distribution.loc['Yes', 'Outlook_Overcast'] = yes_outlook_Overcast\n",
    "data_distribution.loc['Yes', 'Outlook_Sunny'] = yes_outlook_Sunny\n",
    "data_distribution.loc['Yes', 'Temperature_Hot'] = yes_Temperature_Hot\n",
    "data_distribution.loc['Yes', 'Temperature_Mild'] = yes_Temperature_Mild\n",
    "data_distribution.loc['Yes', 'Temperature_Cool'] = yes_Temperature_Cool\n",
    "data_distribution.loc['Yes', 'Humidity_mean'] = yes_Humidity_mean\n",
    "data_distribution.loc['Yes', 'Humidity_std'] = yes_Humidity_std\n",
    "data_distribution.loc['Yes', 'Windy_mean'] = yes_Windy_mean\n",
    "data_distribution.loc['Yes', 'Windy_std'] = yes_Windy_std"
   ]
  },
  {
   "cell_type": "code",
   "execution_count": 95,
   "metadata": {},
   "outputs": [
    {
     "name": "stdout",
     "output_type": "stream",
     "text": [
      "Total counts of Yes: 9\n",
      "\n",
      "rainy Outlook under Yes: 3\n",
      "Overcast Outlook under Yes: 4\n",
      "Sunny Outlook under Yes: 2\n",
      "\n",
      "Hot Temperature under Yes: 3\n",
      "Mild Temperature under Yes: 3\n",
      "Cool Temperature under Yes: 3\n",
      "\n",
      "High Humidity under Yes: 32.55555555555556\n",
      "Normal Humidity under Yes: 20.597255001097764\n",
      "\n",
      "Yes Windy under Yes: 53.111111111111114\n",
      "No Windy under Yes: 17.697736480782222\n"
     ]
    }
   ],
   "source": [
    "print('Total counts of Yes:', Yes_count)\n",
    "print('\\nrainy Outlook under Yes:', yes_outlook_rainy)\n",
    "print('Overcast Outlook under Yes:', yes_outlook_Overcast)\n",
    "print('Sunny Outlook under Yes:', yes_outlook_Sunny)\n",
    "print('\\nHot Temperature under Yes:', yes_Temperature_Hot)\n",
    "print('Mild Temperature under Yes:', yes_Temperature_Mild)\n",
    "print('Cool Temperature under Yes:', yes_Temperature_Cool)\n",
    "print('\\nHigh Humidity under Yes:', yes_Humidity_mean)\n",
    "print('Normal Humidity under Yes:', yes_Humidity_std)\n",
    "print('\\nYes Windy under Yes:', yes_Windy_mean)\n",
    "print('No Windy under Yes:', yes_Windy_std)"
   ]
  },
  {
   "cell_type": "markdown",
   "metadata": {},
   "source": [
    "#### 2. Data distribution for No"
   ]
  },
  {
   "cell_type": "code",
   "execution_count": 96,
   "metadata": {},
   "outputs": [],
   "source": [
    "no_outlook_rainy = No_data[No_data['Outlook'] == 'Rainy'].shape[0]\n",
    "no_outlook_Overcast = No_data[No_data['Outlook'] == 'Overcast'].shape[0]\n",
    "no_outlook_Sunny = No_data[No_data['Outlook'] == 'Sunny'].shape[0]\n",
    "\n",
    "no_Temperature_Hot = No_data[No_data['Temperature'] == 'Hot'].shape[0]\n",
    "no_Temperature_Mild = No_data[No_data['Temperature'] == 'Mild'].shape[0]\n",
    "no_Temperature_Cool = No_data[No_data['Temperature'] == 'Cool'].shape[0]\n",
    "\n",
    "no_Humidity_mean = np.mean(No_data['Humidity'])\n",
    "no_Humidity_std = np.std(No_data['Humidity'])\n",
    "\n",
    "no_Windy_mean = np.mean(No_data['Windy'])\n",
    "no_Windy_std = np.std(No_data['Windy'])"
   ]
  },
  {
   "cell_type": "code",
   "execution_count": 97,
   "metadata": {},
   "outputs": [],
   "source": [
    "data_distribution.loc['No', 'Total'] = No_count\n",
    "data_distribution.loc['No', 'Outlook_rainy'] = no_outlook_rainy\n",
    "data_distribution.loc['No', 'Outlook_Overcast'] = no_outlook_Overcast\n",
    "data_distribution.loc['No', 'Outlook_Sunny'] = no_outlook_Sunny\n",
    "data_distribution.loc['No', 'Temperature_Hot'] = no_Temperature_Hot\n",
    "data_distribution.loc['No', 'Temperature_Mild'] = no_Temperature_Mild\n",
    "data_distribution.loc['No', 'Temperature_Cool'] = no_Temperature_Cool\n",
    "data_distribution.loc['No', 'Humidity_mean'] = no_Humidity_mean\n",
    "data_distribution.loc['No', 'Humidity_std'] = no_Humidity_std\n",
    "data_distribution.loc['No', 'Windy_mean'] = no_Windy_mean\n",
    "data_distribution.loc['No', 'Windy_std'] = no_Windy_std"
   ]
  },
  {
   "cell_type": "code",
   "execution_count": 98,
   "metadata": {},
   "outputs": [
    {
     "name": "stdout",
     "output_type": "stream",
     "text": [
      "Total counts of No: 5\n",
      "\n",
      "rainy Outlook under No: 2\n",
      "Overcast Outlook under No: 0\n",
      "Sunny Outlook under No: 3\n",
      "\n",
      "Hot Temperature under No: 1\n",
      "Mild Temperature under No: 3\n",
      "Cool Temperature under No: 1\n",
      "\n",
      "High Humidity under No: 46.6\n",
      "Normal Humidity under No: 26.8968399630886\n",
      "\n",
      "Yes Windy under No: 62.6\n",
      "No Windy under No: 26.717784339274843\n"
     ]
    }
   ],
   "source": [
    "print('Total counts of No:', No_count)\n",
    "print('\\nrainy Outlook under No:', no_outlook_rainy)\n",
    "print('Overcast Outlook under No:', no_outlook_Overcast)\n",
    "print('Sunny Outlook under No:', no_outlook_Sunny)\n",
    "print('\\nHot Temperature under No:', no_Temperature_Hot)\n",
    "print('Mild Temperature under No:', no_Temperature_Mild)\n",
    "print('Cool Temperature under No:', no_Temperature_Cool)\n",
    "print('\\nHigh Humidity under No:', no_Humidity_mean)\n",
    "print('Normal Humidity under No:', no_Humidity_std)\n",
    "print('\\nYes Windy under No:', no_Windy_mean)\n",
    "print('No Windy under No:', no_Windy_std)"
   ]
  },
  {
   "cell_type": "code",
   "execution_count": 99,
   "metadata": {},
   "outputs": [
    {
     "data": {
      "text/html": [
       "<div>\n",
       "<style scoped>\n",
       "    .dataframe tbody tr th:only-of-type {\n",
       "        vertical-align: middle;\n",
       "    }\n",
       "\n",
       "    .dataframe tbody tr th {\n",
       "        vertical-align: top;\n",
       "    }\n",
       "\n",
       "    .dataframe thead th {\n",
       "        text-align: right;\n",
       "    }\n",
       "</style>\n",
       "<table border=\"1\" class=\"dataframe\">\n",
       "  <thead>\n",
       "    <tr style=\"text-align: right;\">\n",
       "      <th></th>\n",
       "      <th>Total</th>\n",
       "      <th>Outlook_rainy</th>\n",
       "      <th>Outlook_Overcast</th>\n",
       "      <th>Outlook_Sunny</th>\n",
       "      <th>Temperature_Hot</th>\n",
       "      <th>Temperature_Mild</th>\n",
       "      <th>Temperature_Cool</th>\n",
       "      <th>Humidity_mean</th>\n",
       "      <th>Humidity_std</th>\n",
       "      <th>Windy_mean</th>\n",
       "      <th>Windy_std</th>\n",
       "    </tr>\n",
       "  </thead>\n",
       "  <tbody>\n",
       "    <tr>\n",
       "      <th>Yes</th>\n",
       "      <td>9</td>\n",
       "      <td>3</td>\n",
       "      <td>4</td>\n",
       "      <td>2</td>\n",
       "      <td>3</td>\n",
       "      <td>3</td>\n",
       "      <td>3</td>\n",
       "      <td>32.5556</td>\n",
       "      <td>20.5973</td>\n",
       "      <td>53.1111</td>\n",
       "      <td>17.6977</td>\n",
       "    </tr>\n",
       "    <tr>\n",
       "      <th>No</th>\n",
       "      <td>5</td>\n",
       "      <td>2</td>\n",
       "      <td>0</td>\n",
       "      <td>3</td>\n",
       "      <td>1</td>\n",
       "      <td>3</td>\n",
       "      <td>1</td>\n",
       "      <td>46.6</td>\n",
       "      <td>26.8968</td>\n",
       "      <td>62.6</td>\n",
       "      <td>26.7178</td>\n",
       "    </tr>\n",
       "  </tbody>\n",
       "</table>\n",
       "</div>"
      ],
      "text/plain": [
       "    Total Outlook_rainy Outlook_Overcast Outlook_Sunny Temperature_Hot  \\\n",
       "Yes     9             3                4             2               3   \n",
       "No      5             2                0             3               1   \n",
       "\n",
       "    Temperature_Mild Temperature_Cool Humidity_mean Humidity_std Windy_mean  \\\n",
       "Yes                3                3       32.5556      20.5973    53.1111   \n",
       "No                 3                1          46.6      26.8968       62.6   \n",
       "\n",
       "    Windy_std  \n",
       "Yes   17.6977  \n",
       "No    26.7178  "
      ]
     },
     "execution_count": 99,
     "metadata": {},
     "output_type": "execute_result"
    }
   ],
   "source": [
    "data_distribution"
   ]
  },
  {
   "cell_type": "code",
   "execution_count": 113,
   "metadata": {},
   "outputs": [],
   "source": [
    "data_distribution.to_csv('data.csv')"
   ]
  },
  {
   "cell_type": "markdown",
   "metadata": {},
   "source": [
    "#### lets pick  and see the probability for the below condition\n",
    "Outlook = 'Rainy' ,\n",
    "Temperature = 'Mild' ,\n",
    "Humidity = 20 ,\n",
    "Windy = 19"
   ]
  },
  {
   "cell_type": "markdown",
   "metadata": {},
   "source": [
    "#### Calculate the probability density function"
   ]
  },
  {
   "cell_type": "code",
   "execution_count": 100,
   "metadata": {},
   "outputs": [],
   "source": [
    "#yes_humidity\n",
    "numerator_yes = np.exp(-((20-yes_Humidity_mean)**2) / (2 * (yes_Humidity_std ** 2)) )\n",
    "denominator_yes = np.sqrt(2 * 3.14 * (yes_Humidity_std ** 2))\n",
    "yes_Humidity = numerator_yes/denominator_yes\n",
    "\n",
    "#yes_windy\n",
    "numerator_yes = np.exp(-((19-yes_Windy_mean)**2) / (2 * (yes_Windy_std ** 2)) )\n",
    "denominator_yes = np.sqrt(2 * 3.14 * (yes_Windy_std ** 2))\n",
    "yes_Windy = numerator_yes/denominator_yes\n",
    "\n",
    "#no_humidity\n",
    "numerator_no = np.exp(-((20-no_Humidity_mean)**2) / (2 * (no_Humidity_std ** 2)) )\n",
    "denominator_no = np.sqrt(2 * 3.14 * (no_Humidity_std ** 2))\n",
    "no_Humidity = numerator_no/denominator_no\n",
    "\n",
    "#no_windy\n",
    "numerator_no = np.exp(-((19-no_Windy_mean)**2) / (2 * (no_Windy_std ** 2)) )\n",
    "denominator_no = np.sqrt(2 * 3.14 * (no_Windy_std ** 2))\n",
    "no_Windy = numerator_no/denominator_no"
   ]
  },
  {
   "cell_type": "code",
   "execution_count": 101,
   "metadata": {},
   "outputs": [],
   "source": [
    "\n",
    "#probability for Yes\n",
    "# P('Outlook_rainy'/'Yes') * P('Temperature_Mild'/'Yes') * P('Humidity'/'Yes') * P('Windy'/Yes')\n",
    "P_Yes = (yes_outlook_rainy / Yes_count) * (yes_Temperature_Mild / Yes_count) * (yes_Humidity) * (yes_Windy) * (Yes_count / total_count)\n",
    "\n",
    "#probability for No\n",
    "P_No = (no_outlook_rainy / No_count) * (no_Temperature_Mild / No_count) * (no_Humidity) * (no_Windy) * (No_count / total_count)\n"
   ]
  },
  {
   "cell_type": "code",
   "execution_count": 102,
   "metadata": {},
   "outputs": [
    {
     "name": "stdout",
     "output_type": "stream",
     "text": [
      "The probability of Yes: 4.04389833825209e-06\n",
      "The probability of No: 3.0757201129330552e-06\n"
     ]
    }
   ],
   "source": [
    "print('The probability of Yes:', P_Yes)\n",
    "print('The probability of No:', P_No)"
   ]
  },
  {
   "cell_type": "markdown",
   "metadata": {},
   "source": [
    "Conclusion: \n",
    "There is a higher chance for 'Yes'. "
   ]
  },
  {
   "cell_type": "markdown",
   "metadata": {},
   "source": [
    "#### Redo the same process using sklearn package"
   ]
  },
  {
   "cell_type": "code",
   "execution_count": 103,
   "metadata": {},
   "outputs": [],
   "source": [
    "train_data['Outlook'] = train_data['Outlook'].replace({'Rainy':0, 'Overcast':1, 'Sunny':2})\n",
    "train_data['Temperature'] = train_data['Temperature'].replace({'Hot':0, 'Mild':1, 'Cool':2})\n",
    "train_data['Class'] = train_data['Class'].replace({'No':0, 'Yes':1})"
   ]
  },
  {
   "cell_type": "code",
   "execution_count": 104,
   "metadata": {},
   "outputs": [
    {
     "data": {
      "text/html": [
       "<div>\n",
       "<style scoped>\n",
       "    .dataframe tbody tr th:only-of-type {\n",
       "        vertical-align: middle;\n",
       "    }\n",
       "\n",
       "    .dataframe tbody tr th {\n",
       "        vertical-align: top;\n",
       "    }\n",
       "\n",
       "    .dataframe thead th {\n",
       "        text-align: right;\n",
       "    }\n",
       "</style>\n",
       "<table border=\"1\" class=\"dataframe\">\n",
       "  <thead>\n",
       "    <tr style=\"text-align: right;\">\n",
       "      <th></th>\n",
       "      <th>Outlook</th>\n",
       "      <th>Temperature</th>\n",
       "      <th>Humidity</th>\n",
       "      <th>Windy</th>\n",
       "      <th>Class</th>\n",
       "    </tr>\n",
       "  </thead>\n",
       "  <tbody>\n",
       "    <tr>\n",
       "      <th>0</th>\n",
       "      <td>0</td>\n",
       "      <td>0</td>\n",
       "      <td>5</td>\n",
       "      <td>92</td>\n",
       "      <td>0</td>\n",
       "    </tr>\n",
       "    <tr>\n",
       "      <th>1</th>\n",
       "      <td>0</td>\n",
       "      <td>0</td>\n",
       "      <td>6</td>\n",
       "      <td>56</td>\n",
       "      <td>1</td>\n",
       "    </tr>\n",
       "    <tr>\n",
       "      <th>2</th>\n",
       "      <td>1</td>\n",
       "      <td>0</td>\n",
       "      <td>10</td>\n",
       "      <td>67</td>\n",
       "      <td>1</td>\n",
       "    </tr>\n",
       "    <tr>\n",
       "      <th>3</th>\n",
       "      <td>2</td>\n",
       "      <td>1</td>\n",
       "      <td>50</td>\n",
       "      <td>88</td>\n",
       "      <td>0</td>\n",
       "    </tr>\n",
       "    <tr>\n",
       "      <th>4</th>\n",
       "      <td>2</td>\n",
       "      <td>2</td>\n",
       "      <td>21</td>\n",
       "      <td>34</td>\n",
       "      <td>1</td>\n",
       "    </tr>\n",
       "    <tr>\n",
       "      <th>5</th>\n",
       "      <td>2</td>\n",
       "      <td>2</td>\n",
       "      <td>30</td>\n",
       "      <td>21</td>\n",
       "      <td>0</td>\n",
       "    </tr>\n",
       "    <tr>\n",
       "      <th>6</th>\n",
       "      <td>1</td>\n",
       "      <td>2</td>\n",
       "      <td>42</td>\n",
       "      <td>75</td>\n",
       "      <td>1</td>\n",
       "    </tr>\n",
       "    <tr>\n",
       "      <th>7</th>\n",
       "      <td>0</td>\n",
       "      <td>1</td>\n",
       "      <td>67</td>\n",
       "      <td>45</td>\n",
       "      <td>0</td>\n",
       "    </tr>\n",
       "    <tr>\n",
       "      <th>8</th>\n",
       "      <td>0</td>\n",
       "      <td>2</td>\n",
       "      <td>35</td>\n",
       "      <td>65</td>\n",
       "      <td>1</td>\n",
       "    </tr>\n",
       "    <tr>\n",
       "      <th>9</th>\n",
       "      <td>2</td>\n",
       "      <td>1</td>\n",
       "      <td>30</td>\n",
       "      <td>71</td>\n",
       "      <td>1</td>\n",
       "    </tr>\n",
       "    <tr>\n",
       "      <th>10</th>\n",
       "      <td>0</td>\n",
       "      <td>1</td>\n",
       "      <td>25</td>\n",
       "      <td>23</td>\n",
       "      <td>1</td>\n",
       "    </tr>\n",
       "    <tr>\n",
       "      <th>11</th>\n",
       "      <td>1</td>\n",
       "      <td>1</td>\n",
       "      <td>79</td>\n",
       "      <td>54</td>\n",
       "      <td>1</td>\n",
       "    </tr>\n",
       "    <tr>\n",
       "      <th>12</th>\n",
       "      <td>1</td>\n",
       "      <td>0</td>\n",
       "      <td>45</td>\n",
       "      <td>33</td>\n",
       "      <td>1</td>\n",
       "    </tr>\n",
       "    <tr>\n",
       "      <th>13</th>\n",
       "      <td>2</td>\n",
       "      <td>1</td>\n",
       "      <td>81</td>\n",
       "      <td>67</td>\n",
       "      <td>0</td>\n",
       "    </tr>\n",
       "  </tbody>\n",
       "</table>\n",
       "</div>"
      ],
      "text/plain": [
       "    Outlook  Temperature  Humidity  Windy  Class\n",
       "0         0            0         5     92      0\n",
       "1         0            0         6     56      1\n",
       "2         1            0        10     67      1\n",
       "3         2            1        50     88      0\n",
       "4         2            2        21     34      1\n",
       "5         2            2        30     21      0\n",
       "6         1            2        42     75      1\n",
       "7         0            1        67     45      0\n",
       "8         0            2        35     65      1\n",
       "9         2            1        30     71      1\n",
       "10        0            1        25     23      1\n",
       "11        1            1        79     54      1\n",
       "12        1            0        45     33      1\n",
       "13        2            1        81     67      0"
      ]
     },
     "execution_count": 104,
     "metadata": {},
     "output_type": "execute_result"
    }
   ],
   "source": [
    "train_data"
   ]
  },
  {
   "cell_type": "code",
   "execution_count": 105,
   "metadata": {},
   "outputs": [],
   "source": [
    "train_x = train_data.drop('Class', axis=1)\n",
    "train_y = train_data['Class']"
   ]
  },
  {
   "cell_type": "code",
   "execution_count": 106,
   "metadata": {},
   "outputs": [
    {
     "data": {
      "text/plain": [
       "Index(['Outlook', 'Temperature', 'Humidity', 'Windy', 'Class'], dtype='object')"
      ]
     },
     "execution_count": 106,
     "metadata": {},
     "output_type": "execute_result"
    }
   ],
   "source": [
    "train_data.columns"
   ]
  },
  {
   "cell_type": "code",
   "execution_count": 107,
   "metadata": {},
   "outputs": [],
   "source": [
    "test_x = pd.DataFrame([], columns=['Outlook', 'Temperature', 'Humidity', 'Windy'])"
   ]
  },
  {
   "cell_type": "code",
   "execution_count": 108,
   "metadata": {},
   "outputs": [],
   "source": [
    "test_x['Outlook'] = ['Rainy']\n",
    "test_x['Temperature'] = 'Mild'\n",
    "test_x['Humidity'] = 20\n",
    "test_x['Windy'] = 19\n",
    "\n",
    "test_x['Outlook'] = test_x['Outlook'].replace({'Rainy':0, 'Overcast':1, 'Sunny':2})\n",
    "test_x['Temperature'] = test_x['Temperature'].replace({'Hot':0, 'Mild':1, 'Cool':2})\n"
   ]
  },
  {
   "cell_type": "code",
   "execution_count": 109,
   "metadata": {},
   "outputs": [
    {
     "data": {
      "text/html": [
       "<div>\n",
       "<style scoped>\n",
       "    .dataframe tbody tr th:only-of-type {\n",
       "        vertical-align: middle;\n",
       "    }\n",
       "\n",
       "    .dataframe tbody tr th {\n",
       "        vertical-align: top;\n",
       "    }\n",
       "\n",
       "    .dataframe thead th {\n",
       "        text-align: right;\n",
       "    }\n",
       "</style>\n",
       "<table border=\"1\" class=\"dataframe\">\n",
       "  <thead>\n",
       "    <tr style=\"text-align: right;\">\n",
       "      <th></th>\n",
       "      <th>Outlook</th>\n",
       "      <th>Temperature</th>\n",
       "      <th>Humidity</th>\n",
       "      <th>Windy</th>\n",
       "    </tr>\n",
       "  </thead>\n",
       "  <tbody>\n",
       "    <tr>\n",
       "      <th>0</th>\n",
       "      <td>0</td>\n",
       "      <td>1</td>\n",
       "      <td>20</td>\n",
       "      <td>19</td>\n",
       "    </tr>\n",
       "  </tbody>\n",
       "</table>\n",
       "</div>"
      ],
      "text/plain": [
       "   Outlook  Temperature  Humidity  Windy\n",
       "0        0            1        20     19"
      ]
     },
     "execution_count": 109,
     "metadata": {},
     "output_type": "execute_result"
    }
   ],
   "source": [
    "test_x"
   ]
  },
  {
   "cell_type": "markdown",
   "metadata": {},
   "source": [
    "#### Use Multinomial NB"
   ]
  },
  {
   "cell_type": "code",
   "execution_count": 110,
   "metadata": {},
   "outputs": [],
   "source": [
    "gaussian = GaussianNB()"
   ]
  },
  {
   "cell_type": "code",
   "execution_count": 111,
   "metadata": {},
   "outputs": [
    {
     "data": {
      "text/plain": [
       "GaussianNB(priors=None, var_smoothing=1e-09)"
      ]
     },
     "execution_count": 111,
     "metadata": {},
     "output_type": "execute_result"
    }
   ],
   "source": [
    "gaussian.fit(train_x, train_y)"
   ]
  },
  {
   "cell_type": "code",
   "execution_count": 112,
   "metadata": {},
   "outputs": [
    {
     "data": {
      "text/plain": [
       "array([1], dtype=int64)"
      ]
     },
     "execution_count": 112,
     "metadata": {},
     "output_type": "execute_result"
    }
   ],
   "source": [
    "gaussian.predict(test_x)"
   ]
  },
  {
   "cell_type": "markdown",
   "metadata": {},
   "source": [
    "The prediction is 'Yes'."
   ]
  },
  {
   "cell_type": "code",
   "execution_count": null,
   "metadata": {},
   "outputs": [],
   "source": []
  }
 ],
 "metadata": {
  "kernelspec": {
   "display_name": "Python 3",
   "language": "python",
   "name": "python3"
  },
  "language_info": {
   "codemirror_mode": {
    "name": "ipython",
    "version": 3
   },
   "file_extension": ".py",
   "mimetype": "text/x-python",
   "name": "python",
   "nbconvert_exporter": "python",
   "pygments_lexer": "ipython3",
   "version": "3.7.6"
  }
 },
 "nbformat": 4,
 "nbformat_minor": 4
}
