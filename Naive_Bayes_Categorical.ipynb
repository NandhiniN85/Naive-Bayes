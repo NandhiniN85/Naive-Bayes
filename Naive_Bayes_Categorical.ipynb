{
 "cells": [
  {
   "cell_type": "markdown",
   "metadata": {},
   "source": [
    "#### Import the necessary libraries"
   ]
  },
  {
   "cell_type": "code",
   "execution_count": 1,
   "metadata": {},
   "outputs": [],
   "source": [
    "import pandas as pd\n",
    "from sklearn.naive_bayes import MultinomialNB\n",
    "import warnings\n",
    "from sklearn.preprocessing import LabelEncoder"
   ]
  },
  {
   "cell_type": "code",
   "execution_count": 2,
   "metadata": {},
   "outputs": [],
   "source": [
    "warnings.filterwarnings('ignore')"
   ]
  },
  {
   "cell_type": "markdown",
   "metadata": {},
   "source": [
    "#### Readin the file "
   ]
  },
  {
   "cell_type": "code",
   "execution_count": 3,
   "metadata": {},
   "outputs": [],
   "source": [
    "train_data = pd.read_csv('weather_dataset.csv')"
   ]
  },
  {
   "cell_type": "code",
   "execution_count": 4,
   "metadata": {},
   "outputs": [
    {
     "data": {
      "text/html": [
       "<div>\n",
       "<style scoped>\n",
       "    .dataframe tbody tr th:only-of-type {\n",
       "        vertical-align: middle;\n",
       "    }\n",
       "\n",
       "    .dataframe tbody tr th {\n",
       "        vertical-align: top;\n",
       "    }\n",
       "\n",
       "    .dataframe thead th {\n",
       "        text-align: right;\n",
       "    }\n",
       "</style>\n",
       "<table border=\"1\" class=\"dataframe\">\n",
       "  <thead>\n",
       "    <tr style=\"text-align: right;\">\n",
       "      <th></th>\n",
       "      <th>Outlook</th>\n",
       "      <th>Temperature</th>\n",
       "      <th>Humidity</th>\n",
       "      <th>Windy</th>\n",
       "      <th>Class</th>\n",
       "    </tr>\n",
       "  </thead>\n",
       "  <tbody>\n",
       "    <tr>\n",
       "      <th>0</th>\n",
       "      <td>Rainy</td>\n",
       "      <td>Hot</td>\n",
       "      <td>High</td>\n",
       "      <td>No</td>\n",
       "      <td>No</td>\n",
       "    </tr>\n",
       "    <tr>\n",
       "      <th>1</th>\n",
       "      <td>Rainy</td>\n",
       "      <td>Hot</td>\n",
       "      <td>High</td>\n",
       "      <td>Yes</td>\n",
       "      <td>Yes</td>\n",
       "    </tr>\n",
       "    <tr>\n",
       "      <th>2</th>\n",
       "      <td>Overcast</td>\n",
       "      <td>Hot</td>\n",
       "      <td>High</td>\n",
       "      <td>No</td>\n",
       "      <td>Yes</td>\n",
       "    </tr>\n",
       "    <tr>\n",
       "      <th>3</th>\n",
       "      <td>Sunny</td>\n",
       "      <td>Mild</td>\n",
       "      <td>High</td>\n",
       "      <td>No</td>\n",
       "      <td>No</td>\n",
       "    </tr>\n",
       "    <tr>\n",
       "      <th>4</th>\n",
       "      <td>Sunny</td>\n",
       "      <td>Cool</td>\n",
       "      <td>Normal</td>\n",
       "      <td>No</td>\n",
       "      <td>Yes</td>\n",
       "    </tr>\n",
       "    <tr>\n",
       "      <th>5</th>\n",
       "      <td>Sunny</td>\n",
       "      <td>Cool</td>\n",
       "      <td>Normal</td>\n",
       "      <td>Yes</td>\n",
       "      <td>No</td>\n",
       "    </tr>\n",
       "    <tr>\n",
       "      <th>6</th>\n",
       "      <td>Overcast</td>\n",
       "      <td>Cool</td>\n",
       "      <td>Normal</td>\n",
       "      <td>Yes</td>\n",
       "      <td>Yes</td>\n",
       "    </tr>\n",
       "    <tr>\n",
       "      <th>7</th>\n",
       "      <td>Rainy</td>\n",
       "      <td>Mild</td>\n",
       "      <td>High</td>\n",
       "      <td>No</td>\n",
       "      <td>No</td>\n",
       "    </tr>\n",
       "    <tr>\n",
       "      <th>8</th>\n",
       "      <td>Rainy</td>\n",
       "      <td>Cool</td>\n",
       "      <td>Normal</td>\n",
       "      <td>No</td>\n",
       "      <td>Yes</td>\n",
       "    </tr>\n",
       "    <tr>\n",
       "      <th>9</th>\n",
       "      <td>Sunny</td>\n",
       "      <td>Mild</td>\n",
       "      <td>Normal</td>\n",
       "      <td>No</td>\n",
       "      <td>Yes</td>\n",
       "    </tr>\n",
       "    <tr>\n",
       "      <th>10</th>\n",
       "      <td>Rainy</td>\n",
       "      <td>Mild</td>\n",
       "      <td>Normal</td>\n",
       "      <td>Yes</td>\n",
       "      <td>Yes</td>\n",
       "    </tr>\n",
       "    <tr>\n",
       "      <th>11</th>\n",
       "      <td>Overcast</td>\n",
       "      <td>Mild</td>\n",
       "      <td>High</td>\n",
       "      <td>Yes</td>\n",
       "      <td>Yes</td>\n",
       "    </tr>\n",
       "    <tr>\n",
       "      <th>12</th>\n",
       "      <td>Overcast</td>\n",
       "      <td>Hot</td>\n",
       "      <td>Normal</td>\n",
       "      <td>No</td>\n",
       "      <td>Yes</td>\n",
       "    </tr>\n",
       "    <tr>\n",
       "      <th>13</th>\n",
       "      <td>Sunny</td>\n",
       "      <td>Mild</td>\n",
       "      <td>High</td>\n",
       "      <td>Yes</td>\n",
       "      <td>No</td>\n",
       "    </tr>\n",
       "  </tbody>\n",
       "</table>\n",
       "</div>"
      ],
      "text/plain": [
       "     Outlook Temperature Humidity Windy Class\n",
       "0      Rainy         Hot     High    No    No\n",
       "1      Rainy         Hot     High   Yes   Yes\n",
       "2   Overcast         Hot     High    No   Yes\n",
       "3      Sunny        Mild     High    No    No\n",
       "4      Sunny        Cool   Normal    No   Yes\n",
       "5      Sunny        Cool   Normal   Yes    No\n",
       "6   Overcast        Cool   Normal   Yes   Yes\n",
       "7      Rainy        Mild     High    No    No\n",
       "8      Rainy        Cool   Normal    No   Yes\n",
       "9      Sunny        Mild   Normal    No   Yes\n",
       "10     Rainy        Mild   Normal   Yes   Yes\n",
       "11  Overcast        Mild     High   Yes   Yes\n",
       "12  Overcast         Hot   Normal    No   Yes\n",
       "13     Sunny        Mild     High   Yes    No"
      ]
     },
     "execution_count": 4,
     "metadata": {},
     "output_type": "execute_result"
    }
   ],
   "source": [
    "train_data"
   ]
  },
  {
   "cell_type": "code",
   "execution_count": 5,
   "metadata": {},
   "outputs": [
    {
     "data": {
      "text/plain": [
       "(14, 5)"
      ]
     },
     "execution_count": 5,
     "metadata": {},
     "output_type": "execute_result"
    }
   ],
   "source": [
    "train_data.shape"
   ]
  },
  {
   "cell_type": "code",
   "execution_count": 6,
   "metadata": {},
   "outputs": [
    {
     "name": "stdout",
     "output_type": "stream",
     "text": [
      "<class 'pandas.core.frame.DataFrame'>\n",
      "RangeIndex: 14 entries, 0 to 13\n",
      "Data columns (total 5 columns):\n",
      " #   Column       Non-Null Count  Dtype \n",
      "---  ------       --------------  ----- \n",
      " 0   Outlook      14 non-null     object\n",
      " 1   Temperature  14 non-null     object\n",
      " 2   Humidity     14 non-null     object\n",
      " 3   Windy        14 non-null     object\n",
      " 4   Class        14 non-null     object\n",
      "dtypes: object(5)\n",
      "memory usage: 688.0+ bytes\n"
     ]
    }
   ],
   "source": [
    "train_data.info()"
   ]
  },
  {
   "cell_type": "markdown",
   "metadata": {},
   "source": [
    "#### 'Class' is the target label."
   ]
  },
  {
   "cell_type": "code",
   "execution_count": 7,
   "metadata": {},
   "outputs": [],
   "source": [
    "#calculating all the probabilities using training data\n",
    "\n",
    "total_count = train_data.shape[0]\n",
    "\n",
    "Yes_data = train_data[train_data['Class'] == 'Yes']\n",
    "No_data = train_data[train_data['Class'] == 'No']\n",
    "\n",
    "Yes_count = Yes_data.shape[0]\n",
    "No_count = No_data.shape[0]"
   ]
  },
  {
   "cell_type": "code",
   "execution_count": 8,
   "metadata": {},
   "outputs": [
    {
     "data": {
      "text/html": [
       "<div>\n",
       "<style scoped>\n",
       "    .dataframe tbody tr th:only-of-type {\n",
       "        vertical-align: middle;\n",
       "    }\n",
       "\n",
       "    .dataframe tbody tr th {\n",
       "        vertical-align: top;\n",
       "    }\n",
       "\n",
       "    .dataframe thead th {\n",
       "        text-align: right;\n",
       "    }\n",
       "</style>\n",
       "<table border=\"1\" class=\"dataframe\">\n",
       "  <thead>\n",
       "    <tr style=\"text-align: right;\">\n",
       "      <th></th>\n",
       "      <th>Outlook</th>\n",
       "      <th>Temperature</th>\n",
       "      <th>Humidity</th>\n",
       "      <th>Windy</th>\n",
       "      <th>Class</th>\n",
       "    </tr>\n",
       "  </thead>\n",
       "  <tbody>\n",
       "    <tr>\n",
       "      <th>0</th>\n",
       "      <td>Rainy</td>\n",
       "      <td>Hot</td>\n",
       "      <td>High</td>\n",
       "      <td>No</td>\n",
       "      <td>No</td>\n",
       "    </tr>\n",
       "    <tr>\n",
       "      <th>1</th>\n",
       "      <td>Rainy</td>\n",
       "      <td>Hot</td>\n",
       "      <td>High</td>\n",
       "      <td>Yes</td>\n",
       "      <td>Yes</td>\n",
       "    </tr>\n",
       "    <tr>\n",
       "      <th>2</th>\n",
       "      <td>Overcast</td>\n",
       "      <td>Hot</td>\n",
       "      <td>High</td>\n",
       "      <td>No</td>\n",
       "      <td>Yes</td>\n",
       "    </tr>\n",
       "    <tr>\n",
       "      <th>3</th>\n",
       "      <td>Sunny</td>\n",
       "      <td>Mild</td>\n",
       "      <td>High</td>\n",
       "      <td>No</td>\n",
       "      <td>No</td>\n",
       "    </tr>\n",
       "    <tr>\n",
       "      <th>4</th>\n",
       "      <td>Sunny</td>\n",
       "      <td>Cool</td>\n",
       "      <td>Normal</td>\n",
       "      <td>No</td>\n",
       "      <td>Yes</td>\n",
       "    </tr>\n",
       "    <tr>\n",
       "      <th>5</th>\n",
       "      <td>Sunny</td>\n",
       "      <td>Cool</td>\n",
       "      <td>Normal</td>\n",
       "      <td>Yes</td>\n",
       "      <td>No</td>\n",
       "    </tr>\n",
       "    <tr>\n",
       "      <th>6</th>\n",
       "      <td>Overcast</td>\n",
       "      <td>Cool</td>\n",
       "      <td>Normal</td>\n",
       "      <td>Yes</td>\n",
       "      <td>Yes</td>\n",
       "    </tr>\n",
       "    <tr>\n",
       "      <th>7</th>\n",
       "      <td>Rainy</td>\n",
       "      <td>Mild</td>\n",
       "      <td>High</td>\n",
       "      <td>No</td>\n",
       "      <td>No</td>\n",
       "    </tr>\n",
       "    <tr>\n",
       "      <th>8</th>\n",
       "      <td>Rainy</td>\n",
       "      <td>Cool</td>\n",
       "      <td>Normal</td>\n",
       "      <td>No</td>\n",
       "      <td>Yes</td>\n",
       "    </tr>\n",
       "    <tr>\n",
       "      <th>9</th>\n",
       "      <td>Sunny</td>\n",
       "      <td>Mild</td>\n",
       "      <td>Normal</td>\n",
       "      <td>No</td>\n",
       "      <td>Yes</td>\n",
       "    </tr>\n",
       "    <tr>\n",
       "      <th>10</th>\n",
       "      <td>Rainy</td>\n",
       "      <td>Mild</td>\n",
       "      <td>Normal</td>\n",
       "      <td>Yes</td>\n",
       "      <td>Yes</td>\n",
       "    </tr>\n",
       "    <tr>\n",
       "      <th>11</th>\n",
       "      <td>Overcast</td>\n",
       "      <td>Mild</td>\n",
       "      <td>High</td>\n",
       "      <td>Yes</td>\n",
       "      <td>Yes</td>\n",
       "    </tr>\n",
       "    <tr>\n",
       "      <th>12</th>\n",
       "      <td>Overcast</td>\n",
       "      <td>Hot</td>\n",
       "      <td>Normal</td>\n",
       "      <td>No</td>\n",
       "      <td>Yes</td>\n",
       "    </tr>\n",
       "    <tr>\n",
       "      <th>13</th>\n",
       "      <td>Sunny</td>\n",
       "      <td>Mild</td>\n",
       "      <td>High</td>\n",
       "      <td>Yes</td>\n",
       "      <td>No</td>\n",
       "    </tr>\n",
       "  </tbody>\n",
       "</table>\n",
       "</div>"
      ],
      "text/plain": [
       "     Outlook Temperature Humidity Windy Class\n",
       "0      Rainy         Hot     High    No    No\n",
       "1      Rainy         Hot     High   Yes   Yes\n",
       "2   Overcast         Hot     High    No   Yes\n",
       "3      Sunny        Mild     High    No    No\n",
       "4      Sunny        Cool   Normal    No   Yes\n",
       "5      Sunny        Cool   Normal   Yes    No\n",
       "6   Overcast        Cool   Normal   Yes   Yes\n",
       "7      Rainy        Mild     High    No    No\n",
       "8      Rainy        Cool   Normal    No   Yes\n",
       "9      Sunny        Mild   Normal    No   Yes\n",
       "10     Rainy        Mild   Normal   Yes   Yes\n",
       "11  Overcast        Mild     High   Yes   Yes\n",
       "12  Overcast         Hot   Normal    No   Yes\n",
       "13     Sunny        Mild     High   Yes    No"
      ]
     },
     "execution_count": 8,
     "metadata": {},
     "output_type": "execute_result"
    }
   ],
   "source": [
    "train_data"
   ]
  },
  {
   "cell_type": "markdown",
   "metadata": {},
   "source": [
    "#### calculate individual values for each feature and the corresponding categorical value"
   ]
  },
  {
   "cell_type": "markdown",
   "metadata": {},
   "source": [
    "#### 1. Data distribution for Yes"
   ]
  },
  {
   "cell_type": "code",
   "execution_count": 9,
   "metadata": {},
   "outputs": [],
   "source": [
    "data_distribution = pd.DataFrame([], columns=['Total', 'Outlook_rainy', 'Outlook_Overcast', 'Outlook_Sunny',\n",
    "                                              'Temperature_Hot', 'Temperature_Mild', 'Temperature_Cool',\n",
    "                                             'Humidity_High', 'Humidity_Normal','Windy_Yes', 'Windy_No' ])"
   ]
  },
  {
   "cell_type": "code",
   "execution_count": 10,
   "metadata": {},
   "outputs": [],
   "source": [
    "yes_outlook_rainy = Yes_data[Yes_data['Outlook'] == 'Rainy'].shape[0]\n",
    "yes_outlook_Overcast = Yes_data[Yes_data['Outlook'] == 'Overcast'].shape[0]\n",
    "yes_outlook_Sunny = Yes_data[Yes_data['Outlook'] == 'Sunny'].shape[0]\n",
    "\n",
    "yes_Temperature_Hot = Yes_data[Yes_data['Temperature'] == 'Hot'].shape[0]\n",
    "yes_Temperature_Mild = Yes_data[Yes_data['Temperature'] == 'Mild'].shape[0]\n",
    "yes_Temperature_Cool = Yes_data[Yes_data['Temperature'] == 'Cool'].shape[0]\n",
    "\n",
    "yes_Humidity_High = Yes_data[Yes_data['Humidity'] == 'High'].shape[0]\n",
    "yes_Humidity_Normal = Yes_data[Yes_data['Humidity'] == 'Normal'].shape[0]\n",
    "\n",
    "yes_Windy_Yes = Yes_data[Yes_data['Windy'] == 'Yes'].shape[0]\n",
    "yes_Windy_No = Yes_data[Yes_data['Windy'] == 'No'].shape[0]"
   ]
  },
  {
   "cell_type": "code",
   "execution_count": 11,
   "metadata": {},
   "outputs": [],
   "source": [
    "data_distribution.loc['Yes', 'Total'] = Yes_count\n",
    "data_distribution.loc['Yes', 'Outlook_rainy'] = yes_outlook_rainy\n",
    "data_distribution.loc['Yes', 'Outlook_Overcast'] = yes_outlook_Overcast\n",
    "data_distribution.loc['Yes', 'Outlook_Sunny'] = yes_outlook_Sunny\n",
    "data_distribution.loc['Yes', 'Temperature_Hot'] = yes_Temperature_Hot\n",
    "data_distribution.loc['Yes', 'Temperature_Mild'] = yes_Temperature_Mild\n",
    "data_distribution.loc['Yes', 'Temperature_Cool'] = yes_Temperature_Cool\n",
    "data_distribution.loc['Yes', 'Humidity_High'] = yes_Humidity_High\n",
    "data_distribution.loc['Yes', 'Humidity_Normal'] = yes_Humidity_Normal\n",
    "data_distribution.loc['Yes', 'Windy_Yes'] = yes_Windy_Yes\n",
    "data_distribution.loc['Yes', 'Windy_No'] = yes_Windy_No"
   ]
  },
  {
   "cell_type": "code",
   "execution_count": 12,
   "metadata": {},
   "outputs": [
    {
     "name": "stdout",
     "output_type": "stream",
     "text": [
      "Total counts of Yes: 9\n",
      "\n",
      "rainy Outlook under Yes: 3\n",
      "Overcast Outlook under Yes: 4\n",
      "Sunny Outlook under Yes: 2\n",
      "\n",
      "Hot Temperature under Yes: 3\n",
      "Mild Temperature under Yes: 3\n",
      "Cool Temperature under Yes: 3\n",
      "\n",
      "High Humidity under Yes: 3\n",
      "Normal Humidity under Yes: 6\n",
      "\n",
      "Yes Windy under Yes: 4\n",
      "No Windy under Yes: 5\n"
     ]
    }
   ],
   "source": [
    "print('Total counts of Yes:', Yes_count)\n",
    "print('\\nrainy Outlook under Yes:', yes_outlook_rainy)\n",
    "print('Overcast Outlook under Yes:', yes_outlook_Overcast)\n",
    "print('Sunny Outlook under Yes:', yes_outlook_Sunny)\n",
    "print('\\nHot Temperature under Yes:', yes_Temperature_Hot)\n",
    "print('Mild Temperature under Yes:', yes_Temperature_Mild)\n",
    "print('Cool Temperature under Yes:', yes_Temperature_Cool)\n",
    "print('\\nHigh Humidity under Yes:', yes_Humidity_High)\n",
    "print('Normal Humidity under Yes:', yes_Humidity_Normal)\n",
    "print('\\nYes Windy under Yes:', yes_Windy_Yes)\n",
    "print('No Windy under Yes:', yes_Windy_No)"
   ]
  },
  {
   "cell_type": "markdown",
   "metadata": {},
   "source": [
    "#### 2. Data distribution for No"
   ]
  },
  {
   "cell_type": "code",
   "execution_count": 13,
   "metadata": {},
   "outputs": [],
   "source": [
    "no_outlook_rainy = No_data[No_data['Outlook'] == 'Rainy'].shape[0]\n",
    "no_outlook_Overcast = No_data[No_data['Outlook'] == 'Overcast'].shape[0]\n",
    "no_outlook_Sunny = No_data[No_data['Outlook'] == 'Sunny'].shape[0]\n",
    "\n",
    "no_Temperature_Hot = No_data[No_data['Temperature'] == 'Hot'].shape[0]\n",
    "no_Temperature_Mild = No_data[No_data['Temperature'] == 'Mild'].shape[0]\n",
    "no_Temperature_Cool = No_data[No_data['Temperature'] == 'Cool'].shape[0]\n",
    "\n",
    "no_Humidity_High = No_data[No_data['Humidity'] == 'High'].shape[0]\n",
    "no_Humidity_Normal = No_data[No_data['Humidity'] == 'Normal'].shape[0]\n",
    "\n",
    "no_Windy_Yes = No_data[No_data['Windy'] == 'Yes'].shape[0]\n",
    "no_Windy_No = No_data[No_data['Windy'] == 'No'].shape[0]"
   ]
  },
  {
   "cell_type": "code",
   "execution_count": 14,
   "metadata": {},
   "outputs": [],
   "source": [
    "data_distribution.loc['No', 'Total'] = No_count\n",
    "data_distribution.loc['No', 'Outlook_rainy'] = no_outlook_rainy\n",
    "data_distribution.loc['No', 'Outlook_Overcast'] = no_outlook_Overcast\n",
    "data_distribution.loc['No', 'Outlook_Sunny'] = no_outlook_Sunny\n",
    "data_distribution.loc['No', 'Temperature_Hot'] = no_Temperature_Hot\n",
    "data_distribution.loc['No', 'Temperature_Mild'] = no_Temperature_Mild\n",
    "data_distribution.loc['No', 'Temperature_Cool'] = no_Temperature_Cool\n",
    "data_distribution.loc['No', 'Humidity_High'] = no_Humidity_High\n",
    "data_distribution.loc['No', 'Humidity_Normal'] = no_Humidity_Normal\n",
    "data_distribution.loc['No', 'Windy_Yes'] = no_Windy_Yes\n",
    "data_distribution.loc['No', 'Windy_No'] = no_Windy_No"
   ]
  },
  {
   "cell_type": "code",
   "execution_count": 15,
   "metadata": {},
   "outputs": [
    {
     "name": "stdout",
     "output_type": "stream",
     "text": [
      "Total counts of No: 5\n",
      "\n",
      "rainy Outlook under No: 2\n",
      "Overcast Outlook under No: 0\n",
      "Sunny Outlook under No: 3\n",
      "\n",
      "Hot Temperature under No: 1\n",
      "Mild Temperature under No: 3\n",
      "Cool Temperature under No: 1\n",
      "\n",
      "High Humidity under No: 4\n",
      "Normal Humidity under No: 1\n",
      "\n",
      "Yes Windy under No: 2\n",
      "No Windy under No: 3\n"
     ]
    }
   ],
   "source": [
    "print('Total counts of No:', No_count)\n",
    "print('\\nrainy Outlook under No:', no_outlook_rainy)\n",
    "print('Overcast Outlook under No:', no_outlook_Overcast)\n",
    "print('Sunny Outlook under No:', no_outlook_Sunny)\n",
    "print('\\nHot Temperature under No:', no_Temperature_Hot)\n",
    "print('Mild Temperature under No:', no_Temperature_Mild)\n",
    "print('Cool Temperature under No:', no_Temperature_Cool)\n",
    "print('\\nHigh Humidity under No:', no_Humidity_High)\n",
    "print('Normal Humidity under No:', no_Humidity_Normal)\n",
    "print('\\nYes Windy under No:', no_Windy_Yes)\n",
    "print('No Windy under No:', no_Windy_No)"
   ]
  },
  {
   "cell_type": "code",
   "execution_count": 16,
   "metadata": {},
   "outputs": [
    {
     "data": {
      "text/html": [
       "<div>\n",
       "<style scoped>\n",
       "    .dataframe tbody tr th:only-of-type {\n",
       "        vertical-align: middle;\n",
       "    }\n",
       "\n",
       "    .dataframe tbody tr th {\n",
       "        vertical-align: top;\n",
       "    }\n",
       "\n",
       "    .dataframe thead th {\n",
       "        text-align: right;\n",
       "    }\n",
       "</style>\n",
       "<table border=\"1\" class=\"dataframe\">\n",
       "  <thead>\n",
       "    <tr style=\"text-align: right;\">\n",
       "      <th></th>\n",
       "      <th>Total</th>\n",
       "      <th>Outlook_rainy</th>\n",
       "      <th>Outlook_Overcast</th>\n",
       "      <th>Outlook_Sunny</th>\n",
       "      <th>Temperature_Hot</th>\n",
       "      <th>Temperature_Mild</th>\n",
       "      <th>Temperature_Cool</th>\n",
       "      <th>Humidity_High</th>\n",
       "      <th>Humidity_Normal</th>\n",
       "      <th>Windy_Yes</th>\n",
       "      <th>Windy_No</th>\n",
       "    </tr>\n",
       "  </thead>\n",
       "  <tbody>\n",
       "    <tr>\n",
       "      <th>Yes</th>\n",
       "      <td>9</td>\n",
       "      <td>3</td>\n",
       "      <td>4</td>\n",
       "      <td>2</td>\n",
       "      <td>3</td>\n",
       "      <td>3</td>\n",
       "      <td>3</td>\n",
       "      <td>3</td>\n",
       "      <td>6</td>\n",
       "      <td>4</td>\n",
       "      <td>5</td>\n",
       "    </tr>\n",
       "    <tr>\n",
       "      <th>No</th>\n",
       "      <td>5</td>\n",
       "      <td>2</td>\n",
       "      <td>0</td>\n",
       "      <td>3</td>\n",
       "      <td>1</td>\n",
       "      <td>3</td>\n",
       "      <td>1</td>\n",
       "      <td>4</td>\n",
       "      <td>1</td>\n",
       "      <td>2</td>\n",
       "      <td>3</td>\n",
       "    </tr>\n",
       "  </tbody>\n",
       "</table>\n",
       "</div>"
      ],
      "text/plain": [
       "    Total Outlook_rainy Outlook_Overcast Outlook_Sunny Temperature_Hot  \\\n",
       "Yes     9             3                4             2               3   \n",
       "No      5             2                0             3               1   \n",
       "\n",
       "    Temperature_Mild Temperature_Cool Humidity_High Humidity_Normal Windy_Yes  \\\n",
       "Yes                3                3             3               6         4   \n",
       "No                 3                1             4               1         2   \n",
       "\n",
       "    Windy_No  \n",
       "Yes        5  \n",
       "No         3  "
      ]
     },
     "execution_count": 16,
     "metadata": {},
     "output_type": "execute_result"
    }
   ],
   "source": [
    "data_distribution"
   ]
  },
  {
   "cell_type": "markdown",
   "metadata": {},
   "source": [
    "#### lets pick  and see the probability for the below condition\n",
    "Outlook = 'Rainy' ,\n",
    "Temperature = 'Mild' ,\n",
    "Humidity = 'Normal' ,\n",
    "Windy = 'No'"
   ]
  },
  {
   "cell_type": "code",
   "execution_count": 18,
   "metadata": {},
   "outputs": [],
   "source": [
    "#probability for Yes\n",
    "# P('Outlook_rainy'/'Yes') * P('Temperature_Mild'/'Yes') * P('Humidity_Normal'/'Yes') * P('Windy_No'/Yes')\n",
    "P_Yes = (yes_outlook_rainy / Yes_count) * (yes_Temperature_Mild / Yes_count) * (yes_Humidity_Normal / Yes_count) * (yes_Windy_No / Yes_count) * (Yes_count / total_count)\n",
    "\n",
    "#probability for No\n",
    "P_No = (no_outlook_rainy / No_count) * (no_Temperature_Mild / No_count) * (no_Humidity_Normal/ No_count) * (no_Windy_No / No_count) * (No_count / total_count)\n"
   ]
  },
  {
   "cell_type": "code",
   "execution_count": 19,
   "metadata": {},
   "outputs": [
    {
     "name": "stdout",
     "output_type": "stream",
     "text": [
      "The probability of Yes: 0.026455026455026457\n",
      "The probability of No: 0.010285714285714285\n"
     ]
    }
   ],
   "source": [
    "print('The probability of Yes:', P_Yes)\n",
    "print('The probability of No:', P_No)"
   ]
  },
  {
   "cell_type": "markdown",
   "metadata": {},
   "source": [
    "Conclusion: \n",
    "There is a higher chance for 'Yes'. "
   ]
  },
  {
   "cell_type": "markdown",
   "metadata": {},
   "source": [
    "#### Laplace Smoothing for the scenario Outlook = 'Cloudy', Temperature = 'Mild', Humidity = 'Normal', Windy = 'No'"
   ]
  },
  {
   "cell_type": "code",
   "execution_count": 33,
   "metadata": {},
   "outputs": [
    {
     "name": "stdout",
     "output_type": "stream",
     "text": [
      "The probability of Yes: 0.0006783340116673452\n",
      "The probability of No: 0.0005714285714285714\n"
     ]
    }
   ],
   "source": [
    "yes_outlook_cloudy = (0 + 1)/(Yes_count + (4*1))\n",
    "no_outlook_cloudy = (0 + 1)/(No_count + (4*1))\n",
    "\n",
    "# P('Outlook_cloudy'/'Yes') * P('Temperature_Mild'/'Yes') * P('Humidity_Normal'/'Yes') * P('Windy_No'/Yes')\n",
    "P_Yes = (yes_outlook_cloudy / Yes_count) * (yes_Temperature_Mild / Yes_count) * (yes_Humidity_Normal / Yes_count) * (yes_Windy_No / Yes_count) * (Yes_count / total_count)\n",
    "\n",
    "#probability for No\n",
    "P_No = (no_outlook_cloudy / No_count) * (no_Temperature_Mild / No_count) * (no_Humidity_Normal/ No_count) * (no_Windy_No / No_count) * (No_count / total_count)\n",
    "\n",
    "\n",
    "print('The probability of Yes:', P_Yes)\n",
    "print('The probability of No:', P_No)"
   ]
  },
  {
   "cell_type": "markdown",
   "metadata": {},
   "source": [
    "The probability for 'Yes' is higher. "
   ]
  },
  {
   "cell_type": "markdown",
   "metadata": {},
   "source": [
    "#### Redo the same process using sklearn package"
   ]
  },
  {
   "cell_type": "code",
   "execution_count": 20,
   "metadata": {},
   "outputs": [],
   "source": [
    "train_data['Outlook'] = train_data['Outlook'].replace({'Rainy':0, 'Overcast':1, 'Sunny':2})\n",
    "train_data['Temperature'] = train_data['Temperature'].replace({'Hot':0, 'Mild':1, 'Cool':2})\n",
    "train_data['Humidity'] = train_data['Humidity'].replace({'High':0, 'Normal':1})\n",
    "train_data['Windy'] = train_data['Windy'].replace({'No':0, 'Yes':1})\n",
    "train_data['Class'] = train_data['Class'].replace({'No':0, 'Yes':1})"
   ]
  },
  {
   "cell_type": "code",
   "execution_count": 21,
   "metadata": {},
   "outputs": [
    {
     "data": {
      "text/html": [
       "<div>\n",
       "<style scoped>\n",
       "    .dataframe tbody tr th:only-of-type {\n",
       "        vertical-align: middle;\n",
       "    }\n",
       "\n",
       "    .dataframe tbody tr th {\n",
       "        vertical-align: top;\n",
       "    }\n",
       "\n",
       "    .dataframe thead th {\n",
       "        text-align: right;\n",
       "    }\n",
       "</style>\n",
       "<table border=\"1\" class=\"dataframe\">\n",
       "  <thead>\n",
       "    <tr style=\"text-align: right;\">\n",
       "      <th></th>\n",
       "      <th>Outlook</th>\n",
       "      <th>Temperature</th>\n",
       "      <th>Humidity</th>\n",
       "      <th>Windy</th>\n",
       "      <th>Class</th>\n",
       "    </tr>\n",
       "  </thead>\n",
       "  <tbody>\n",
       "    <tr>\n",
       "      <th>0</th>\n",
       "      <td>0</td>\n",
       "      <td>0</td>\n",
       "      <td>0</td>\n",
       "      <td>0</td>\n",
       "      <td>0</td>\n",
       "    </tr>\n",
       "    <tr>\n",
       "      <th>1</th>\n",
       "      <td>0</td>\n",
       "      <td>0</td>\n",
       "      <td>0</td>\n",
       "      <td>1</td>\n",
       "      <td>1</td>\n",
       "    </tr>\n",
       "    <tr>\n",
       "      <th>2</th>\n",
       "      <td>1</td>\n",
       "      <td>0</td>\n",
       "      <td>0</td>\n",
       "      <td>0</td>\n",
       "      <td>1</td>\n",
       "    </tr>\n",
       "    <tr>\n",
       "      <th>3</th>\n",
       "      <td>2</td>\n",
       "      <td>1</td>\n",
       "      <td>0</td>\n",
       "      <td>0</td>\n",
       "      <td>0</td>\n",
       "    </tr>\n",
       "    <tr>\n",
       "      <th>4</th>\n",
       "      <td>2</td>\n",
       "      <td>2</td>\n",
       "      <td>1</td>\n",
       "      <td>0</td>\n",
       "      <td>1</td>\n",
       "    </tr>\n",
       "    <tr>\n",
       "      <th>5</th>\n",
       "      <td>2</td>\n",
       "      <td>2</td>\n",
       "      <td>1</td>\n",
       "      <td>1</td>\n",
       "      <td>0</td>\n",
       "    </tr>\n",
       "    <tr>\n",
       "      <th>6</th>\n",
       "      <td>1</td>\n",
       "      <td>2</td>\n",
       "      <td>1</td>\n",
       "      <td>1</td>\n",
       "      <td>1</td>\n",
       "    </tr>\n",
       "    <tr>\n",
       "      <th>7</th>\n",
       "      <td>0</td>\n",
       "      <td>1</td>\n",
       "      <td>0</td>\n",
       "      <td>0</td>\n",
       "      <td>0</td>\n",
       "    </tr>\n",
       "    <tr>\n",
       "      <th>8</th>\n",
       "      <td>0</td>\n",
       "      <td>2</td>\n",
       "      <td>1</td>\n",
       "      <td>0</td>\n",
       "      <td>1</td>\n",
       "    </tr>\n",
       "    <tr>\n",
       "      <th>9</th>\n",
       "      <td>2</td>\n",
       "      <td>1</td>\n",
       "      <td>1</td>\n",
       "      <td>0</td>\n",
       "      <td>1</td>\n",
       "    </tr>\n",
       "    <tr>\n",
       "      <th>10</th>\n",
       "      <td>0</td>\n",
       "      <td>1</td>\n",
       "      <td>1</td>\n",
       "      <td>1</td>\n",
       "      <td>1</td>\n",
       "    </tr>\n",
       "    <tr>\n",
       "      <th>11</th>\n",
       "      <td>1</td>\n",
       "      <td>1</td>\n",
       "      <td>0</td>\n",
       "      <td>1</td>\n",
       "      <td>1</td>\n",
       "    </tr>\n",
       "    <tr>\n",
       "      <th>12</th>\n",
       "      <td>1</td>\n",
       "      <td>0</td>\n",
       "      <td>1</td>\n",
       "      <td>0</td>\n",
       "      <td>1</td>\n",
       "    </tr>\n",
       "    <tr>\n",
       "      <th>13</th>\n",
       "      <td>2</td>\n",
       "      <td>1</td>\n",
       "      <td>0</td>\n",
       "      <td>1</td>\n",
       "      <td>0</td>\n",
       "    </tr>\n",
       "  </tbody>\n",
       "</table>\n",
       "</div>"
      ],
      "text/plain": [
       "    Outlook  Temperature  Humidity  Windy  Class\n",
       "0         0            0         0      0      0\n",
       "1         0            0         0      1      1\n",
       "2         1            0         0      0      1\n",
       "3         2            1         0      0      0\n",
       "4         2            2         1      0      1\n",
       "5         2            2         1      1      0\n",
       "6         1            2         1      1      1\n",
       "7         0            1         0      0      0\n",
       "8         0            2         1      0      1\n",
       "9         2            1         1      0      1\n",
       "10        0            1         1      1      1\n",
       "11        1            1         0      1      1\n",
       "12        1            0         1      0      1\n",
       "13        2            1         0      1      0"
      ]
     },
     "execution_count": 21,
     "metadata": {},
     "output_type": "execute_result"
    }
   ],
   "source": [
    "train_data"
   ]
  },
  {
   "cell_type": "code",
   "execution_count": 22,
   "metadata": {},
   "outputs": [],
   "source": [
    "train_x = train_data.drop('Class', axis=1)\n",
    "train_y = train_data['Class']"
   ]
  },
  {
   "cell_type": "code",
   "execution_count": 23,
   "metadata": {},
   "outputs": [
    {
     "data": {
      "text/plain": [
       "Index(['Outlook', 'Temperature', 'Humidity', 'Windy', 'Class'], dtype='object')"
      ]
     },
     "execution_count": 23,
     "metadata": {},
     "output_type": "execute_result"
    }
   ],
   "source": [
    "train_data.columns"
   ]
  },
  {
   "cell_type": "code",
   "execution_count": 24,
   "metadata": {},
   "outputs": [],
   "source": [
    "test_x = pd.DataFrame([], columns=['Outlook', 'Temperature', 'Humidity', 'Windy'])"
   ]
  },
  {
   "cell_type": "code",
   "execution_count": 25,
   "metadata": {},
   "outputs": [],
   "source": [
    "test_x['Outlook'] = ['Rainy']\n",
    "test_x['Temperature'] = 'Mild'\n",
    "test_x['Humidity'] = 'Normal'\n",
    "test_x['Windy'] = 'No'\n",
    "\n",
    "test_x['Outlook'] = test_x['Outlook'].replace({'Rainy':0, 'Overcast':1, 'Sunny':2})\n",
    "test_x['Temperature'] = test_x['Temperature'].replace({'Hot':0, 'Mild':1, 'Cool':2})\n",
    "test_x['Humidity'] = test_x['Humidity'].replace({'High':0, 'Normal':1})\n",
    "test_x['Windy'] = test_x['Windy'].replace({'No':0, 'Yes':1})"
   ]
  },
  {
   "cell_type": "code",
   "execution_count": 26,
   "metadata": {},
   "outputs": [
    {
     "data": {
      "text/html": [
       "<div>\n",
       "<style scoped>\n",
       "    .dataframe tbody tr th:only-of-type {\n",
       "        vertical-align: middle;\n",
       "    }\n",
       "\n",
       "    .dataframe tbody tr th {\n",
       "        vertical-align: top;\n",
       "    }\n",
       "\n",
       "    .dataframe thead th {\n",
       "        text-align: right;\n",
       "    }\n",
       "</style>\n",
       "<table border=\"1\" class=\"dataframe\">\n",
       "  <thead>\n",
       "    <tr style=\"text-align: right;\">\n",
       "      <th></th>\n",
       "      <th>Outlook</th>\n",
       "      <th>Temperature</th>\n",
       "      <th>Humidity</th>\n",
       "      <th>Windy</th>\n",
       "    </tr>\n",
       "  </thead>\n",
       "  <tbody>\n",
       "    <tr>\n",
       "      <th>0</th>\n",
       "      <td>0</td>\n",
       "      <td>1</td>\n",
       "      <td>1</td>\n",
       "      <td>0</td>\n",
       "    </tr>\n",
       "  </tbody>\n",
       "</table>\n",
       "</div>"
      ],
      "text/plain": [
       "   Outlook  Temperature  Humidity  Windy\n",
       "0        0            1         1      0"
      ]
     },
     "execution_count": 26,
     "metadata": {},
     "output_type": "execute_result"
    }
   ],
   "source": [
    "test_x"
   ]
  },
  {
   "cell_type": "markdown",
   "metadata": {},
   "source": [
    "#### Use Multinomial NB"
   ]
  },
  {
   "cell_type": "code",
   "execution_count": 27,
   "metadata": {},
   "outputs": [],
   "source": [
    "multinomial = MultinomialNB()"
   ]
  },
  {
   "cell_type": "code",
   "execution_count": 28,
   "metadata": {},
   "outputs": [
    {
     "data": {
      "text/plain": [
       "MultinomialNB(alpha=1.0, class_prior=None, fit_prior=True)"
      ]
     },
     "execution_count": 28,
     "metadata": {},
     "output_type": "execute_result"
    }
   ],
   "source": [
    "multinomial.fit(train_x, train_y)"
   ]
  },
  {
   "cell_type": "code",
   "execution_count": 29,
   "metadata": {},
   "outputs": [
    {
     "data": {
      "text/plain": [
       "array([1], dtype=int64)"
      ]
     },
     "execution_count": 29,
     "metadata": {},
     "output_type": "execute_result"
    }
   ],
   "source": [
    "multinomial.predict(test_x)"
   ]
  },
  {
   "cell_type": "code",
   "execution_count": null,
   "metadata": {},
   "outputs": [],
   "source": [
    "The prediction is 'Yes'."
   ]
  }
 ],
 "metadata": {
  "kernelspec": {
   "display_name": "Python 3",
   "language": "python",
   "name": "python3"
  },
  "language_info": {
   "codemirror_mode": {
    "name": "ipython",
    "version": 3
   },
   "file_extension": ".py",
   "mimetype": "text/x-python",
   "name": "python",
   "nbconvert_exporter": "python",
   "pygments_lexer": "ipython3",
   "version": "3.7.6"
  }
 },
 "nbformat": 4,
 "nbformat_minor": 4
}
